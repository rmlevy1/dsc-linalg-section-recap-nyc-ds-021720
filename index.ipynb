{
 "cells": [
  {
   "cell_type": "markdown",
   "metadata": {},
   "source": [
    "# Linear Algebra - Recap\n",
    "\n",
    "\n",
    "## Introduction\n",
    "\n",
    "In this section, you learned the fundamentals of linear algebra. An understanding of linear algebra will help you better understand the underlying mathematics behind some machine learning algorithms.\n",
    "\n",
    "\n",
    "## Key Takeaways\n",
    "\n",
    "The goal of this section was to provide both a conceptual and computational introduction to linear algebra - one of the foundational concepts underlying most machine learning models. Some of the key takeaways include: \n",
    "\n",
    "* One use case for vectors and matrices is for representing and solving systems of linear equations\n",
    "* A scalar is a single, real number. A vector is a one-dimensional array of numbers. A matrix is a 2-dimensional array of numbers \n",
    "* A tensor is a generalized term for an n-dimensional rectangular grid of numbers. A vector is a one-dimensional (first-order tensor), a matrix is a two-dimensional (second-order tensor), etc.\n",
    "* Two matrices can be added together if they have the same shape\n",
    "* Scalars can be added to matrices by adding the scalar (number) to each element\n",
    "* To calculate the dot product for matrix multiplication, the first matrix must have the same number of columns as the number of rows in the second matrix \n",
    "* Operating on NumPy data types is substantially more computationally efficient than performing the same operations on native Python data types\n",
    "* It is possible to use linear algebra in NumPy to solve for a linear regression using the OLS method\n",
    "* OLS is not computationally efficient, so in practice, we usually perform a gradient descent instead to solve a linear regression\n"
   ]
  }
 ],
 "metadata": {
  "kernelspec": {
   "display_name": "Python 3",
   "language": "python",
   "name": "python3"
  },
  "language_info": {
   "codemirror_mode": {
    "name": "ipython",
    "version": 3
   },
   "file_extension": ".py",
   "mimetype": "text/x-python",
   "name": "python",
   "nbconvert_exporter": "python",
   "pygments_lexer": "ipython3",
   "version": "3.6.9"
  }
 },
 "nbformat": 4,
 "nbformat_minor": 2
}
